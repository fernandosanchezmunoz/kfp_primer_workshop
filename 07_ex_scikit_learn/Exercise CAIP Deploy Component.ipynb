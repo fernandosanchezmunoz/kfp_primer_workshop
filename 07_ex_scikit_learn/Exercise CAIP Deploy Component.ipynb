{
 "cells": [
  {
   "cell_type": "markdown",
   "metadata": {},
   "source": [
    "# CAIP Deploy Component Exercise \n",
    "\n",
    "In this exersise you need to create pipeline that uses an existing GCP component for deploying a Scikit Learn model on Cloud AI Platform. Hereby the details:\n",
    "\n",
    "- Use this existing component from [Github](https://github.com/kubeflow/pipelines/tree/master/components/gcp/ml_engine/train). \n",
    "- Make sure that you change YOUR_NAME below.\n",
    "- Use Runtime 1.4 and Python version 3.5\n",
    "- Check if your API is working by submitting the JSON via the GUI. \n",
    "- Use the EXERIMENT_NAME for your experiment"
   ]
  },
  {
   "cell_type": "code",
   "execution_count": 2,
   "metadata": {},
   "outputs": [],
   "source": [
    "import datetime as datetime\n",
    "\n",
    "# Required Parameters\n",
    "PROJECT_ID = 'kfp-primer-workshop'\n",
    "YOUR_NAME = 'your_name'\n",
    "\n",
    "# Optional Parameters\n",
    "TRAINED_MODEL_PATH = 'gs://kfp-scikit/model/output/model/'\n",
    "VERSION = \"Scikit_deploy_%s_%s\" % (datetime.datetime.now(), YOUR_NAME)\n",
    "EXPERIMENT_NAME = \"Scikit_deploy_%s_%s\" % (datetime.datetime.now(), YOUR_NAME)"
   ]
  },
  {
   "cell_type": "code",
   "execution_count": null,
   "metadata": {},
   "outputs": [],
   "source": []
  }
 ],
 "metadata": {
  "kernelspec": {
   "display_name": "Python 3",
   "language": "python",
   "name": "python3"
  },
  "language_info": {
   "codemirror_mode": {
    "name": "ipython",
    "version": 3
   },
   "file_extension": ".py",
   "mimetype": "text/x-python",
   "name": "python",
   "nbconvert_exporter": "python",
   "pygments_lexer": "ipython3",
   "version": "3.7.4"
  }
 },
 "nbformat": 4,
 "nbformat_minor": 2
}
