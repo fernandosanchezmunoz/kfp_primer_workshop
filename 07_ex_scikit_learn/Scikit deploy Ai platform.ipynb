{
 "cells": [
  {
   "cell_type": "code",
   "execution_count": 41,
   "metadata": {},
   "outputs": [],
   "source": [
    "YOUR_NAME = 'Erwin' #change to your name\n",
    "EXPERIMENT_NAME = 'Scikit Learn CAIP Deploy V1.1 %s' % (YOUR_NAME) # change to your experiment name "
   ]
  },
  {
   "cell_type": "code",
   "execution_count": 40,
   "metadata": {},
   "outputs": [
    {
     "name": "stdout",
     "output_type": "stream",
     "text": [
      "Help on function Deploying a trained model to Cloud Machine Learning Engine:\n",
      "\n",
      "Deploying a trained model to Cloud Machine Learning Engine(model_uri:'GCSPath', project_id:'GCPProjectID', model_id:'String'='', version_id:'String'='', runtime_version:'String'='', python_version:'String'='', model:'Dict'='', version:'Dict'='', replace_existing_version:'Bool'='Fasle', set_default:'Bool'='False', wait_interval:'Integer'='30')\n",
      "    Deploying a trained model to Cloud Machine Learning Engine\n",
      "    A Kubeflow Pipeline component to deploy a trained model from a Cloud Storage\n",
      "    path to a Cloud Machine Learning Engine service.\n",
      "\n"
     ]
    }
   ],
   "source": [
    "import kfp.components as comp\n",
    "\n",
    "mlengine_deploy_op = comp.load_component_from_url(\n",
    "    'https://raw.githubusercontent.com/kubeflow/pipelines/17a104eac09e29bd39c0edc933f7fc53a5f98ef7/components/gcp/ml_engine/deploy/component.yaml')\n",
    "help(mlengine_deploy_op)"
   ]
  },
  {
   "cell_type": "code",
   "execution_count": 47,
   "metadata": {},
   "outputs": [],
   "source": [
    "import datetime as datetime\n",
    "\n",
    "# Required Parameters\n",
    "PROJECT_ID = 'kfp-primer-workshop'\n",
    "\n",
    "# Optional Parameters\n",
    "EXPERIMENT_NAME = EXPERIMENT_NAME\n",
    "TRAINED_MODEL_PATH = 'gs://kfp-scikit/model/output/model/'\n",
    "VERSION = \"Marketing_V_%s_%s\" % (datetime.datetime.now(), YOUR_NAME)"
   ]
  },
  {
   "cell_type": "code",
   "execution_count": 48,
   "metadata": {},
   "outputs": [],
   "source": [
    "import kfp.dsl as dsl\n",
    "import kfp.gcp as gcp\n",
    "import json\n",
    "@dsl.pipeline(\n",
    "    name='CAIP deploy pipeline',\n",
    "    description='CAIP deploy pipeline'\n",
    ")\n",
    "def pipeline(\n",
    "    model_uri = 'gs://kfp-scikit/model/output/model/',\n",
    "    project_id = PROJECT_ID,\n",
    "    model_id = 'kfp_sample_model',\n",
    "    version_id = VERSION,\n",
    "    runtime_version = '1.14',\n",
    "    python_version = '3.5',\n",
    "    version = '',\n",
    "    replace_existing_version = 'True',\n",
    "    set_default = 'True',\n",
    "    wait_interval = '30'):\n",
    "    task = mlengine_deploy_op(\n",
    "        model_uri=model_uri, \n",
    "        project_id=project_id, \n",
    "        model_id=model_id, \n",
    "        version_id=version_id, \n",
    "        runtime_version=runtime_version, \n",
    "        python_version=python_version,\n",
    "        version=version, \n",
    "        replace_existing_version=replace_existing_version, \n",
    "        set_default=set_default, \n",
    "        wait_interval=wait_interval).apply(gcp.use_gcp_secret('user-gcp-sa'))"
   ]
  },
  {
   "cell_type": "code",
   "execution_count": 49,
   "metadata": {},
   "outputs": [],
   "source": [
    "pipeline_func = pipeline\n",
    "pipeline_filename = pipeline_func.__name__ + '.zip'\n",
    "import kfp.compiler as compiler\n",
    "compiler.Compiler().compile(pipeline_func, pipeline_filename)"
   ]
  },
  {
   "cell_type": "code",
   "execution_count": 50,
   "metadata": {},
   "outputs": [
    {
     "data": {
      "text/html": [
       "Experiment link <a href=\"/pipeline/#/experiments/details/d4b25686-c089-4181-8015-ce1073e90c62\" target=\"_blank\" >here</a>"
      ],
      "text/plain": [
       "<IPython.core.display.HTML object>"
      ]
     },
     "metadata": {},
     "output_type": "display_data"
    },
    {
     "data": {
      "text/html": [
       "Run link <a href=\"/pipeline/#/runs/details/c7be20cf-d093-11e9-9b09-42010a800190\" target=\"_blank\" >here</a>"
      ],
      "text/plain": [
       "<IPython.core.display.HTML object>"
      ]
     },
     "metadata": {},
     "output_type": "display_data"
    }
   ],
   "source": [
    "#Specify pipeline argument values\n",
    "arguments = {}\n",
    "\n",
    "#Get or create an experiment and submit a pipeline run\n",
    "import kfp\n",
    "client = kfp.Client()\n",
    "experiment = client.create_experiment(EXPERIMENT_NAME)\n",
    "\n",
    "#Submit a pipeline run\n",
    "run_name = pipeline_func.__name__ + ' run'\n",
    "run_result = client.run_pipeline(experiment.id, run_name, pipeline_filename, arguments)"
   ]
  },
  {
   "cell_type": "code",
   "execution_count": 9,
   "metadata": {},
   "outputs": [
    {
     "name": "stdout",
     "output_type": "stream",
     "text": [
      "Writing predict.json\n"
     ]
    }
   ],
   "source": [
    "{\n",
    "\"instances\": [[45,\"admin.\",\"divorced\",\"secondary\",2353,true,false,\"cellular\",5,\"mar\",182,1,107,2,\"other\"]\n",
    "]\n",
    "}"
   ]
  },
  {
   "cell_type": "code",
   "execution_count": null,
   "metadata": {},
   "outputs": [],
   "source": []
  }
 ],
 "metadata": {
  "kernelspec": {
   "display_name": "Python 3",
   "language": "python",
   "name": "python3"
  },
  "language_info": {
   "codemirror_mode": {
    "name": "ipython",
    "version": 3
   },
   "file_extension": ".py",
   "mimetype": "text/x-python",
   "name": "python",
   "nbconvert_exporter": "python",
   "pygments_lexer": "ipython3",
   "version": "3.6.7"
  }
 },
 "nbformat": 4,
 "nbformat_minor": 2
}
