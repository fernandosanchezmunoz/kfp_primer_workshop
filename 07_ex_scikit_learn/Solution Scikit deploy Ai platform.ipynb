{
 "cells": [
  {
   "cell_type": "code",
   "execution_count": null,
   "metadata": {},
   "outputs": [],
   "source": [
    "YOUR_NAME = 'Erwin' #change to your name\n",
    "EXPERIMENT_NAME = 'Scikit Learn CAIP Deploy V1.1 %s' % (YOUR_NAME) # change to your experiment name "
   ]
  },
  {
   "cell_type": "code",
   "execution_count": null,
   "metadata": {},
   "outputs": [],
   "source": [
    "import kfp.components as comp\n",
    "\n",
    "mlengine_deploy_op = comp.load_component_from_url(\n",
    "    'https://raw.githubusercontent.com/kubeflow/pipelines/17a104eac09e29bd39c0edc933f7fc53a5f98ef7/components/gcp/ml_engine/deploy/component.yaml')\n",
    "help(mlengine_deploy_op)"
   ]
  },
  {
   "cell_type": "code",
   "execution_count": null,
   "metadata": {},
   "outputs": [],
   "source": [
    "import datetime as datetime\n",
    "\n",
    "# Required Parameters\n",
    "PROJECT_ID = 'kfp-primer-workshop'\n",
    "\n",
    "# Optional Parameters\n",
    "EXPERIMENT_NAME = EXPERIMENT_NAME\n",
    "TRAINED_MODEL_PATH = 'gs://kfp-scikit/model/output/model/'\n",
    "VERSION = \"Marketing_V_%s_%s\" % (datetime.datetime.now(), YOUR_NAME)"
   ]
  },
  {
   "cell_type": "code",
   "execution_count": null,
   "metadata": {},
   "outputs": [],
   "source": [
    "import kfp.dsl as dsl\n",
    "import kfp.gcp as gcp\n",
    "import json\n",
    "@dsl.pipeline(\n",
    "    name='CAIP deploy pipeline',\n",
    "    description='CAIP deploy pipeline'\n",
    ")\n",
    "def pipeline(\n",
    "    model_uri = 'gs://kfp-scikit/model/output/model/',\n",
    "    project_id = PROJECT_ID,\n",
    "    model_id = 'kfp_sample_model',\n",
    "    version_id = VERSION,\n",
    "    runtime_version = '1.14',\n",
    "    python_version = '3.5',\n",
    "    version = '',\n",
    "    replace_existing_version = 'True',\n",
    "    set_default = 'True',\n",
    "    wait_interval = '30'):\n",
    "    task = mlengine_deploy_op(\n",
    "        model_uri=model_uri, \n",
    "        project_id=project_id, \n",
    "        model_id=model_id, \n",
    "        version_id=version_id, \n",
    "        runtime_version=runtime_version, \n",
    "        python_version=python_version,\n",
    "        version=version, \n",
    "        replace_existing_version=replace_existing_version, \n",
    "        set_default=set_default, \n",
    "        wait_interval=wait_interval).apply(gcp.use_gcp_secret('user-gcp-sa'))"
   ]
  },
  {
   "cell_type": "code",
   "execution_count": null,
   "metadata": {},
   "outputs": [],
   "source": [
    "pipeline_func = pipeline\n",
    "pipeline_filename = pipeline_func.__name__ + '.zip'\n",
    "import kfp.compiler as compiler\n",
    "compiler.Compiler().compile(pipeline_func, pipeline_filename)"
   ]
  },
  {
   "cell_type": "code",
   "execution_count": null,
   "metadata": {},
   "outputs": [],
   "source": [
    "#Specify pipeline argument values\n",
    "arguments = {}\n",
    "\n",
    "#Get or create an experiment and submit a pipeline run\n",
    "import kfp\n",
    "client = kfp.Client()\n",
    "experiment = client.create_experiment(EXPERIMENT_NAME)\n",
    "\n",
    "#Submit a pipeline run\n",
    "run_name = pipeline_func.__name__ + ' run'\n",
    "run_result = client.run_pipeline(experiment.id, run_name, pipeline_filename, arguments)"
   ]
  },
  {
   "cell_type": "code",
   "execution_count": null,
   "metadata": {},
   "outputs": [],
   "source": [
    "{\n",
    "\"instances\": [[45,\"admin.\",\"divorced\",\"secondary\",2353,true,false,\"cellular\",5,\"mar\",182,1,107,2,\"other\"]\n",
    "]\n",
    "}"
   ]
  },
  {
   "cell_type": "code",
   "execution_count": null,
   "metadata": {},
   "outputs": [],
   "source": []
  }
 ],
 "metadata": {
  "kernelspec": {
   "display_name": "Python 3",
   "language": "python",
   "name": "python3"
  },
  "language_info": {
   "codemirror_mode": {
    "name": "ipython",
    "version": 3
   },
   "file_extension": ".py",
   "mimetype": "text/x-python",
   "name": "python",
   "nbconvert_exporter": "python",
   "pygments_lexer": "ipython3",
   "version": "3.7.4"
  }
 },
 "nbformat": 4,
 "nbformat_minor": 2
}
