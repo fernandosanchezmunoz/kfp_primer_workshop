{
 "cells": [
  {
   "cell_type": "markdown",
   "metadata": {},
   "source": [
    "# Introduction to lightweight component, pipepile and client"
   ]
  },
  {
   "cell_type": "code",
   "execution_count": null,
   "metadata": {},
   "outputs": [],
   "source": [
    "# Install the SDK\n",
    "!pip3 install kfp --upgrade"
   ]
  },
  {
   "cell_type": "code",
   "execution_count": null,
   "metadata": {},
   "outputs": [],
   "source": [
    "import kfp.components as comp\n",
    "import kfp.dsl as dsl"
   ]
  },
  {
   "cell_type": "code",
   "execution_count": null,
   "metadata": {},
   "outputs": [],
   "source": [
    "#Define a Python function\n",
    "def add(a: int, b: int) -> int:\n",
    "   '''Calculates sum of two arguments'''\n",
    "   return a + b"
   ]
  },
  {
   "cell_type": "markdown",
   "metadata": {},
   "source": [
    "We can convert the function ```add``` to a component using the function ```comp.func_to_container_op```"
   ]
  },
  {
   "cell_type": "code",
   "execution_count": null,
   "metadata": {},
   "outputs": [],
   "source": [
    "add_op = comp.func_to_container_op(add, base_image='tensorflow/tensorflow:1.13.2-py3')"
   ]
  },
  {
   "cell_type": "code",
   "execution_count": null,
   "metadata": {},
   "outputs": [],
   "source": [
    "type(add_op)"
   ]
  },
  {
   "cell_type": "code",
   "execution_count": null,
   "metadata": {},
   "outputs": [],
   "source": [
    "print(comp.func_to_component_text(add_op))"
   ]
  },
  {
   "cell_type": "markdown",
   "metadata": {},
   "source": [
    "There are several requirements for the function:\n",
    "* The function should be stand-alone. It should not use any code declared outside of the function definition. Any imports should be added inside the main function. Any helper functions should also be defined inside the main function.\n",
    "* The function can only import packages that are available in the base image. If you need to import a package that's not available you can try to find a container image that already includes the required packages. (As a workaround you can use the module subprocess to run pip install for the required package.)\n",
    "* If the function operates on numbers, the parameters need to have type hints. Supported types are ```[int, float, bool]```. Everything else is passed as string.\n",
    "* To build a component with multiple output values, use the typing.NamedTuple type hint syntax: ```NamedTuple('MyFunctionOutputs', [('output_name_1', type), ('output_name_2', float)])```"
   ]
  },
  {
   "cell_type": "markdown",
   "metadata": {},
   "source": [
    "- create the second component to read from GCS and build the first pipeline\n",
    "- run pipeline"
   ]
  },
  {
   "cell_type": "code",
   "execution_count": null,
   "metadata": {},
   "outputs": [],
   "source": [
    "from typing import NamedTuple"
   ]
  },
  {
   "cell_type": "code",
   "execution_count": null,
   "metadata": {},
   "outputs": [],
   "source": [
    "def divide(x: int, y: int) -> NamedTuple('MyDivmodOutput', [('quotient', int), ('remainder', int)]):\n",
    "    \"\"\"Returns the quotient and the remainder  of dividing x on y.\"\"\"\n",
    "    from collections import namedtuple\n",
    "    \n",
    "    quotient = x // y\n",
    "    remainder = x % y\n",
    "\n",
    "    myDivmodOutput = namedtuple('MyDivmodOutput', ['quotient', 'remainder'])\n",
    "    result = myDivmodOutput(quotient=quotient, remainder=remainder)\n",
    "\n",
    "    return result"
   ]
  },
  {
   "cell_type": "code",
   "execution_count": null,
   "metadata": {},
   "outputs": [],
   "source": [
    "divide_op = comp.func_to_container_op(divide)"
   ]
  },
  {
   "cell_type": "code",
   "execution_count": null,
   "metadata": {},
   "outputs": [],
   "source": [
    "def print_value(x: str) -> None:\n",
    "    \"\"\"Helper funtion to print parameter's value\"\"\"\n",
    "    print(x)"
   ]
  },
  {
   "cell_type": "code",
   "execution_count": null,
   "metadata": {},
   "outputs": [],
   "source": [
    "print_value_op = comp.func_to_container_op(print_value)"
   ]
  },
  {
   "cell_type": "code",
   "execution_count": null,
   "metadata": {},
   "outputs": [],
   "source": [
    "#Define first pipeline\n",
    "@dsl.pipeline(\n",
    "    name='A simple pipeline',\n",
    "    description='A simple pipeline to illustrate the kfp main concepts'\n",
    ")\n",
    "def simple_pipeline(\n",
    "    x_value: dsl.PipelineParam(name='x', value='5', param_type=dsl.types.Integer),\n",
    "    y_value: dsl.PipelineParam(name='y', value='4', param_type=dsl.types.Integer),\n",
    "    z_value: dsl.PipelineParam(name='z', value='2', param_type=dsl.types.Integer)\n",
    "):\n",
    "    add_step = add_op(a=x_value, b=y_value)\n",
    "    add_step.set_display_name('Add a and b')\n",
    "    add_result = add_step.output\n",
    "\n",
    "    divide_step = divide_op(x=add_result, y=z_value)\n",
    "    divide_step.set_display_name('Divide sum by z')\n",
    "    \n",
    "    print_value_quotient_step = print_value_op('%s' % divide_step.outputs['quotient'])\n",
    "    print_value_quotient_step.set_display_name('Print quotient')\n",
    "    print_value_remainder_step = print_value_op('%s' % divide_step.outputs['remainder'])\n",
    "    print_value_remainder_step.set_display_name('Print remainder')"
   ]
  },
  {
   "cell_type": "markdown",
   "metadata": {},
   "source": [
    "To introduce if condition check ```kfp.dsl.Condition```"
   ]
  },
  {
   "cell_type": "markdown",
   "metadata": {},
   "source": [
    "The pipeline needs to be compiled, before be uploaded to Kubeflow Pipeline"
   ]
  },
  {
   "cell_type": "code",
   "execution_count": null,
   "metadata": {},
   "outputs": [],
   "source": [
    "import kfp.compiler as compiler"
   ]
  },
  {
   "cell_type": "code",
   "execution_count": null,
   "metadata": {},
   "outputs": [],
   "source": [
    "compiler.Compiler().compile(simple_pipeline, simple_pipeline.__name__ + '.pipeline.zip')"
   ]
  },
  {
   "cell_type": "code",
   "execution_count": null,
   "metadata": {},
   "outputs": [],
   "source": [
    "!ls"
   ]
  },
  {
   "cell_type": "markdown",
   "metadata": {},
   "source": [
    "If running outside of the cluster with Kubeflow, set `GOOGLE_APPLICATION_CREDENTIALS` for dealing with authorisation. The service account needs to have the role `IAP-secured Web App User`."
   ]
  },
  {
   "cell_type": "code",
   "execution_count": null,
   "metadata": {},
   "outputs": [],
   "source": [
    "# import os\n",
    "# os.environ['GOOGLE_APPLICATION_CREDENTIALS'] = '' # path to the json file of the service account used to log in: it need to have role IAP-secured Web App User\n",
    "# HOST = '' # url of the cluster e.g. https://demo-kubeflow.endpoints.lf-ml-demo.cloud.goog/pipeline\n",
    "# CLIENT_ID = '' # The client ID used by Identity-Aware Proxy\n",
    "# NAMESPACE = '' # user namespace e.g. https://demo-kubeflow.endpoints.lf-ml-demo.cloud.goog/pipeline"
   ]
  },
  {
   "cell_type": "code",
   "execution_count": null,
   "metadata": {},
   "outputs": [],
   "source": [
    "from kfp import Client as KfpClient"
   ]
  },
  {
   "cell_type": "code",
   "execution_count": null,
   "metadata": {},
   "outputs": [],
   "source": [
    "client = KfpClient(\n",
    "# we are running into the same Kubeflow so we do not need to do anything\n",
    "#     host=HOST,\n",
    "#     client_id=CLIENT_ID,\n",
    "#     namespace=NAMESPACE  \n",
    ")"
   ]
  },
  {
   "cell_type": "code",
   "execution_count": null,
   "metadata": {},
   "outputs": [],
   "source": [
    "client.create_run_from_pipeline_package(\n",
    "    pipeline_file=simple_pipeline.__name__ + '.pipeline.zip',\n",
    "    arguments={'x_value': '4', 'y_value': '5', 'z_value': 2},\n",
    "    experiment_name='01_lightweight_components',\n",
    "    run_name='001'\n",
    ")"
   ]
  },
  {
   "cell_type": "markdown",
   "metadata": {},
   "source": [
    "Few additional comments:\n",
    "- ```kfp.Client.create_run_from_pipeline_func``` would have allowed to compile and run the pipeline ```simple_pipeline``` in one single step\n",
    "- ```kfp.dsl.Condition``` can be used to create branches based on *if statements*"
   ]
  },
  {
   "cell_type": "raw",
   "metadata": {},
   "source": [
    "# Copyright 2019 Google Inc. All Rights Reserved.\n",
    "#\n",
    "# Licensed under the Apache License, Version 2.0 (the \"License\");\n",
    "# you may not use this file except in compliance with the License.\n",
    "# You may obtain a copy of the License at\n",
    "#\n",
    "#     http://www.apache.org/licenses/LICENSE-2.0\n",
    "#\n",
    "# Unless required by applicable law or agreed to in writing, software\n",
    "# distributed under the License is distributed on an \"AS IS\" BASIS,\n",
    "# WITHOUT WARRANTIES OR CONDITIONS OF ANY KIND, either express or implied.\n",
    "# See the License for the specific language governing permissions and\n",
    "# limitations under the License."
   ]
  }
 ],
 "metadata": {
  "kernelspec": {
   "display_name": "Python 3",
   "language": "python",
   "name": "python3"
  },
  "language_info": {
   "codemirror_mode": {
    "name": "ipython",
    "version": 3
   },
   "file_extension": ".py",
   "mimetype": "text/x-python",
   "name": "python",
   "nbconvert_exporter": "python",
   "pygments_lexer": "ipython3",
   "version": "3.7.4"
  }
 },
 "nbformat": 4,
 "nbformat_minor": 2
}
