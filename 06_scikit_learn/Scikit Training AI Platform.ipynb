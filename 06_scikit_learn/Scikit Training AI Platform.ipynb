{
 "cells": [
  {
   "cell_type": "code",
   "execution_count": null,
   "metadata": {},
   "outputs": [],
   "source": [
    "#Please restart kernel if you upgraded the kfp package\n",
    "#KFP_PACKAGE = 'https://storage.googleapis.com/ml-pipeline/release/0.1.20/kfp.tar.gz'\n",
    "#!pip3 install $KFP_PACKAGE --upgrade"
   ]
  },
  {
   "cell_type": "markdown",
   "metadata": {},
   "source": [
    "### Load pre made component from the KFP github\n",
    "Here we take the existing Cloud AI Platform component that can be used to train a model on GCP. You can find an [example](https://github.com/kubeflow/pipelines/tree/master/components/gcp/ml_engine/train) and the component on the KFP Github.  \n",
    "\n"
   ]
  },
  {
   "cell_type": "code",
   "execution_count": 1,
   "metadata": {},
   "outputs": [
    {
     "name": "stdout",
     "output_type": "stream",
     "text": [
      "Help on function Submitting a Cloud ML training job as a pipeline step:\n",
      "\n",
      "Submitting a Cloud ML training job as a pipeline step(project_id:'GCPProjectID', python_module:'String'='', package_uris:'List'='', region:'GCPRegion'='', args:'List'='', job_dir:'GCSPath'='', python_version:'String'='', runtime_version:'String'='', master_image_uri:'GCRPath'='', worker_image_uri:'GCRPath'='', training_input:'Dict'='', job_id_prefix:'String'='', wait_interval:'Integer'='30')\n",
      "    Submitting a Cloud ML training job as a pipeline step\n",
      "    A Kubeflow Pipeline component to submit a Cloud Machine Learning (Cloud ML) \n",
      "    Engine training job as a step in a pipeline.\n",
      "\n"
     ]
    }
   ],
   "source": [
    "import kfp.components as comp\n",
    "\n",
    "mlengine_train_op = comp.load_component_from_url(\n",
    "    'https://raw.githubusercontent.com/kubeflow/pipelines/a97f1d0ad0e7b92203f35c5b0b9af3a314952e05/components/gcp/ml_engine/train/component.yaml')\n",
    "help(mlengine_train_op)"
   ]
  },
  {
   "cell_type": "code",
   "execution_count": 9,
   "metadata": {},
   "outputs": [],
   "source": [
    "import kfp.dsl as dsl\n",
    "import kfp.gcp as gcp\n",
    "import json\n",
    "@dsl.pipeline(\n",
    "    name='CAIP training pipeline',\n",
    "    description='CAIP training pipeline'\n",
    ")\n",
    "def pipeline(\n",
    "    project_id = 'kfp-primer-workshop',\n",
    "    python_module = 'trainer.task',\n",
    "    package_uris = 'gs://kfp-scikit/model/zip/trainer.tar.gz',\n",
    "    region = 'us-central1',\n",
    "    args = json.dumps([\n",
    "        '--pathdata', 'gs://erwinh-public-data/scikit/data/scikit_marketing-data.csv',\n",
    "        '--pathoutput', 'gs://kfp-scikit/model/output/',\n",
    "        '--storage', 'BQ',\n",
    "        '--bqtable', 'kfp-primer-workshop.marketing_data.raw'\n",
    "    ]),\n",
    "    job_dir = 'gs://kfp-scikit/tmp',\n",
    "    python_version = '3.5',\n",
    "    runtime_version = '1.14',\n",
    "    master_image_uri = '',\n",
    "    worker_image_uri = '',\n",
    "    training_input = '',\n",
    "    job_id_prefix = 'marketing_model',\n",
    "    wait_interval = '30'):\n",
    "    \n",
    "    task_1 = mlengine_train_op(\n",
    "        project_id=project_id, \n",
    "        python_module=python_module, \n",
    "        package_uris=package_uris, \n",
    "        region=region, \n",
    "        args=args, \n",
    "        python_version=python_version,\n",
    "        runtime_version=runtime_version, \n",
    "        master_image_uri=master_image_uri, \n",
    "        worker_image_uri=worker_image_uri, \n",
    "        training_input=training_input, \n",
    "        job_id_prefix=job_id_prefix, \n",
    "        wait_interval=wait_interval).apply(gcp.use_gcp_secret('user-gcp-sa'))\n",
    "    \n",
    "    "
   ]
  },
  {
   "cell_type": "code",
   "execution_count": 10,
   "metadata": {},
   "outputs": [],
   "source": [
    "pipeline_func = pipeline\n",
    "pipeline_filename = pipeline_func.__name__ + '.zip'\n",
    "import kfp.compiler as compiler\n",
    "compiler.Compiler().compile(pipeline_func, pipeline_filename)"
   ]
  },
  {
   "cell_type": "code",
   "execution_count": 11,
   "metadata": {},
   "outputs": [],
   "source": [
    "YOUR_NAME = 'Erwin' #change to your name\n",
    "EXPERIMENT_NAME = 'Scikit Learn CAIP V1.1 %s' % (YOUR_NAME) # change to your experiment name "
   ]
  },
  {
   "cell_type": "code",
   "execution_count": 12,
   "metadata": {},
   "outputs": [
    {
     "data": {
      "text/html": [
       "Experiment link <a href=\"/pipeline/#/experiments/details/3a99f1e2-a064-48fd-8d0e-d42af7d13287\" target=\"_blank\" >here</a>"
      ],
      "text/plain": [
       "<IPython.core.display.HTML object>"
      ]
     },
     "metadata": {},
     "output_type": "display_data"
    },
    {
     "data": {
      "text/html": [
       "Run link <a href=\"/pipeline/#/runs/details/d436f108-d092-11e9-9b09-42010a800190\" target=\"_blank\" >here</a>"
      ],
      "text/plain": [
       "<IPython.core.display.HTML object>"
      ]
     },
     "metadata": {},
     "output_type": "display_data"
    }
   ],
   "source": [
    "#Specify pipeline argument values\n",
    "arguments = {}\n",
    "\n",
    "#Get or create an experiment and submit a pipeline run\n",
    "import kfp\n",
    "client = kfp.Client()\n",
    "experiment = client.create_experiment(EXPERIMENT_NAME)\n",
    "\n",
    "#Submit a pipeline run\n",
    "run_name = pipeline_func.__name__ + ' run'\n",
    "run_result = client.run_pipeline(experiment.id, run_name, pipeline_filename, arguments)"
   ]
  },
  {
   "cell_type": "code",
   "execution_count": null,
   "metadata": {},
   "outputs": [],
   "source": []
  },
  {
   "cell_type": "code",
   "execution_count": null,
   "metadata": {},
   "outputs": [],
   "source": []
  }
 ],
 "metadata": {
  "kernelspec": {
   "display_name": "Python 3",
   "language": "python",
   "name": "python3"
  },
  "language_info": {
   "codemirror_mode": {
    "name": "ipython",
    "version": 3
   },
   "file_extension": ".py",
   "mimetype": "text/x-python",
   "name": "python",
   "nbconvert_exporter": "python",
   "pygments_lexer": "ipython3",
   "version": "3.6.7"
  }
 },
 "nbformat": 4,
 "nbformat_minor": 2
}
